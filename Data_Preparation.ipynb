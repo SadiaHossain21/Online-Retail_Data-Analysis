{
 "cells": [
  {
   "cell_type": "markdown",
   "id": "453ffdcb-cc8b-4f14-9b1d-756d861545f6",
   "metadata": {},
   "source": [
    "# Data Cleaning & Preparation – Online Retail II Dataset\n",
    "\n",
    "This notebook performs data cleaning and transformation on the [UCI Online Retail II Dataset](https://archive.ics.uci.edu/dataset/502/online+retail+ii). The cleaned dataset will be exported as a CSV for SQL analysis in a separate notebook.\n",
    "\n",
    "---"
   ]
  },
  {
   "cell_type": "markdown",
   "id": "b7469921-cf90-493b-8926-459f6b889e53",
   "metadata": {},
   "source": [
    "## 1. Load the Dataset"
   ]
  },
  {
   "cell_type": "markdown",
   "id": "9270b5be-0293-4c80-b03c-dbcb9d3e9ac6",
   "metadata": {},
   "source": [
    "The notebook contains 2 sheets, we need to merge them by using **CONCAT**."
   ]
  },
  {
   "cell_type": "code",
   "execution_count": 1,
   "id": "1bfb7307-0db7-4af9-8063-fb0cb41a5a45",
   "metadata": {
    "tags": []
   },
   "outputs": [],
   "source": [
    "import pandas as pd\n",
    "\n",
    "file_path = 'Online_Retail_Raw_Data.xlsx'\n",
    "\n",
    "df1 = pd.read_excel(file_path, sheet_name='Year 2009-2010')\n",
    "df2 = pd.read_excel(file_path, sheet_name='Year 2010-2011')"
   ]
  },
  {
   "cell_type": "code",
   "execution_count": 2,
   "id": "8908517d-a2a7-4374-b412-94f923fd5dcd",
   "metadata": {
    "tags": []
   },
   "outputs": [],
   "source": [
    "df = pd.concat([df1, df2], ignore_index=True)"
   ]
  },
  {
   "cell_type": "markdown",
   "id": "fdb6d5d1-6600-4c44-ba84-3b29852fa842",
   "metadata": {},
   "source": [
    "## 2. Initial Data Exploration"
   ]
  },
  {
   "cell_type": "code",
   "execution_count": 3,
   "id": "fb1a43e2-5f57-49b7-bc32-37dc3736a867",
   "metadata": {},
   "outputs": [
    {
     "name": "stdout",
     "output_type": "stream",
     "text": [
      "Shape: (1067371, 8)\n",
      "<class 'pandas.core.frame.DataFrame'>\n",
      "RangeIndex: 1067371 entries, 0 to 1067370\n",
      "Data columns (total 8 columns):\n",
      " #   Column       Non-Null Count    Dtype         \n",
      "---  ------       --------------    -----         \n",
      " 0   Invoice      1067371 non-null  object        \n",
      " 1   StockCode    1067371 non-null  object        \n",
      " 2   Description  1062989 non-null  object        \n",
      " 3   Quantity     1067371 non-null  int64         \n",
      " 4   InvoiceDate  1067371 non-null  datetime64[ns]\n",
      " 5   Price        1067371 non-null  float64       \n",
      " 6   Customer ID  824364 non-null   float64       \n",
      " 7   Country      1067371 non-null  object        \n",
      "dtypes: datetime64[ns](1), float64(2), int64(1), object(4)\n",
      "memory usage: 65.1+ MB\n"
     ]
    },
    {
     "name": "stderr",
     "output_type": "stream",
     "text": [
      "C:\\Users\\ASUS\\AppData\\Local\\Temp\\ipykernel_13244\\12965092.py:8: FutureWarning: Treating datetime data as categorical rather than numeric in `.describe` is deprecated and will be removed in a future version of pandas. Specify `datetime_is_numeric=True` to silence this warning and adopt the future behavior now.\n",
      "  df.describe(include='all')\n"
     ]
    },
    {
     "data": {
      "text/plain": [
       "Invoice             0\n",
       "StockCode           0\n",
       "Description      4382\n",
       "Quantity            0\n",
       "InvoiceDate         0\n",
       "Price               0\n",
       "Customer ID    243007\n",
       "Country             0\n",
       "dtype: int64"
      ]
     },
     "execution_count": 3,
     "metadata": {},
     "output_type": "execute_result"
    }
   ],
   "source": [
    "# Dataset shape\n",
    "print(\"Shape:\", df.shape)\n",
    "\n",
    "# Dataset info\n",
    "df.info()\n",
    "\n",
    "# Summary statistics\n",
    "df.describe(include='all')\n",
    "\n",
    "# Check for missing values\n",
    "df.isnull().sum()"
   ]
  },
  {
   "cell_type": "markdown",
   "id": "28666633-87fe-456f-bd4a-66940144b45d",
   "metadata": {},
   "source": [
    "This dataset contain 8 columns with 1067371 rows and among them **Description** and **Customer ID** columns contains null values."
   ]
  },
  {
   "cell_type": "markdown",
   "id": "f8862dfc-8648-4ea5-8c38-565d35d74af0",
   "metadata": {},
   "source": [
    "## 3. Data Cleaning"
   ]
  },
  {
   "cell_type": "markdown",
   "id": "fa24c9b6-495b-47be-8c66-66302700e783",
   "metadata": {},
   "source": [
    "Here, we need to handle the null values. We want to keep the **Customer Id** in **Integer Data Format**, so we would fill the missing values with **0** and **Description** with **Unknown**"
   ]
  },
  {
   "cell_type": "code",
   "execution_count": 4,
   "id": "43f133a2-75ef-4e3e-a297-c563b4f1fb0e",
   "metadata": {
    "tags": []
   },
   "outputs": [],
   "source": [
    "# Handling missing customer id's\n",
    "df['Customer ID'] = df['Customer ID'].fillna(0)"
   ]
  },
  {
   "cell_type": "code",
   "execution_count": 5,
   "id": "7457cb08-ab21-429d-9006-45c0235a3dda",
   "metadata": {
    "tags": []
   },
   "outputs": [],
   "source": [
    "# Changing data type of customer id\n",
    "df['Customer ID'] = df['Customer ID'].astype(int)"
   ]
  },
  {
   "cell_type": "code",
   "execution_count": 6,
   "id": "cbe7b673-d186-42c7-ab11-3153549123da",
   "metadata": {
    "tags": []
   },
   "outputs": [],
   "source": [
    "# Convert InvoiceDate to proper datetime\n",
    "df['InvoiceDate'] = pd.to_datetime(df['InvoiceDate'], dayfirst=True, errors='coerce')"
   ]
  },
  {
   "cell_type": "code",
   "execution_count": 7,
   "id": "3a37c57e-9044-46a8-b609-22ddc258542c",
   "metadata": {
    "tags": []
   },
   "outputs": [],
   "source": [
    "# Fill missing Description with \"Unknown\"\n",
    "df['Description'] = df['Description'].fillna(\"Unknown\")"
   ]
  },
  {
   "cell_type": "markdown",
   "id": "c2b5d71d-8eb0-4cae-8c31-31425b5e7189",
   "metadata": {},
   "source": [
    "After analysing **Invoice** column, we saw there are some cancelled orders, with negative **Quantity**. However, for analysing the cancellation rate later, we wouldn't delete this column, so we would create a seperate column **IsCancelled**"
   ]
  },
  {
   "cell_type": "code",
   "execution_count": 8,
   "id": "99ce9c56-1fa1-4423-ad2a-20ed48f3f156",
   "metadata": {
    "tags": []
   },
   "outputs": [],
   "source": [
    "# Filtering the cancelled orders \n",
    "df['IsCancelled'] = df['Invoice'].astype(str).str.startswith('C')"
   ]
  },
  {
   "cell_type": "markdown",
   "id": "e1b3154a-ac72-44c1-b49d-94402f3e8967",
   "metadata": {},
   "source": [
    "For easier calculation, we created another new column **Revenue** and **YearMonth**"
   ]
  },
  {
   "cell_type": "code",
   "execution_count": 9,
   "id": "61348be5-c515-4563-b451-395779779d5e",
   "metadata": {
    "tags": []
   },
   "outputs": [],
   "source": [
    "# Add TotalPrice (Quantity * UnitPrice)\n",
    "df['Revenue'] = df['Quantity'] * df['Price']"
   ]
  },
  {
   "cell_type": "code",
   "execution_count": 10,
   "id": "46d8814c-a2ba-4590-af17-6562a0117017",
   "metadata": {
    "tags": []
   },
   "outputs": [],
   "source": [
    "# Add YearMonth (Period)\n",
    "df['YearMonth'] = df['InvoiceDate'].dt.to_period('M')"
   ]
  },
  {
   "cell_type": "code",
   "execution_count": 11,
   "id": "2a1541bb-b475-46ed-99e4-63a9c90a7dca",
   "metadata": {
    "tags": []
   },
   "outputs": [],
   "source": [
    "# Select relevant columns\n",
    "df_clean = df[['Invoice', 'StockCode', 'Description', 'Quantity',\n",
    "               'InvoiceDate', 'Price', 'Customer ID', 'Country',\n",
    "               'Revenue', 'YearMonth', 'IsCancelled']]"
   ]
  },
  {
   "cell_type": "code",
   "execution_count": 12,
   "id": "42c4c2c1-e5fd-4ae4-be27-c9f0aada5b6b",
   "metadata": {
    "tags": []
   },
   "outputs": [
    {
     "name": "stdout",
     "output_type": "stream",
     "text": [
      "Cleaned dataset saved\n"
     ]
    }
   ],
   "source": [
    "# Export to cleaned CSV (for use in SQL Notebook)\n",
    "df_clean.to_csv('Online_Retail_Clean_Data.csv', index=False, encoding='utf-8')\n",
    "print(\"Cleaned dataset saved\")"
   ]
  },
  {
   "cell_type": "markdown",
   "id": "0ba8b3f6-2b98-4cbf-955f-8510aaf37416",
   "metadata": {},
   "source": [
    "**For better interpretation, we are formatting the column names in the cleaned dataset**"
   ]
  },
  {
   "cell_type": "code",
   "execution_count": 13,
   "id": "f8d92bf7-ae75-459a-a15b-4a1a21799f83",
   "metadata": {
    "tags": []
   },
   "outputs": [],
   "source": [
    "df_clean.columns = (\n",
    "    df_clean.columns\n",
    "    .str.strip()             \n",
    "    .str.lower()             \n",
    "    .str.replace(' ', '_')   \n",
    "    .str.replace(r'[^\\w]', '', regex=True) \n",
    ")"
   ]
  },
  {
   "cell_type": "code",
   "execution_count": 14,
   "id": "e2276302-1c4d-4ae0-a0be-d82d39450450",
   "metadata": {
    "tags": []
   },
   "outputs": [
    {
     "data": {
      "text/html": [
       "<div>\n",
       "<style scoped>\n",
       "    .dataframe tbody tr th:only-of-type {\n",
       "        vertical-align: middle;\n",
       "    }\n",
       "\n",
       "    .dataframe tbody tr th {\n",
       "        vertical-align: top;\n",
       "    }\n",
       "\n",
       "    .dataframe thead th {\n",
       "        text-align: right;\n",
       "    }\n",
       "</style>\n",
       "<table border=\"1\" class=\"dataframe\">\n",
       "  <thead>\n",
       "    <tr style=\"text-align: right;\">\n",
       "      <th></th>\n",
       "      <th>invoice</th>\n",
       "      <th>stockcode</th>\n",
       "      <th>description</th>\n",
       "      <th>quantity</th>\n",
       "      <th>invoicedate</th>\n",
       "      <th>price</th>\n",
       "      <th>customer_id</th>\n",
       "      <th>country</th>\n",
       "      <th>revenue</th>\n",
       "      <th>yearmonth</th>\n",
       "      <th>iscancelled</th>\n",
       "    </tr>\n",
       "  </thead>\n",
       "  <tbody>\n",
       "    <tr>\n",
       "      <th>0</th>\n",
       "      <td>489434</td>\n",
       "      <td>85048</td>\n",
       "      <td>15CM CHRISTMAS GLASS BALL 20 LIGHTS</td>\n",
       "      <td>12</td>\n",
       "      <td>2009-12-01 07:45:00</td>\n",
       "      <td>6.95</td>\n",
       "      <td>13085</td>\n",
       "      <td>United Kingdom</td>\n",
       "      <td>83.4</td>\n",
       "      <td>2009-12</td>\n",
       "      <td>False</td>\n",
       "    </tr>\n",
       "    <tr>\n",
       "      <th>1</th>\n",
       "      <td>489434</td>\n",
       "      <td>79323P</td>\n",
       "      <td>PINK CHERRY LIGHTS</td>\n",
       "      <td>12</td>\n",
       "      <td>2009-12-01 07:45:00</td>\n",
       "      <td>6.75</td>\n",
       "      <td>13085</td>\n",
       "      <td>United Kingdom</td>\n",
       "      <td>81.0</td>\n",
       "      <td>2009-12</td>\n",
       "      <td>False</td>\n",
       "    </tr>\n",
       "    <tr>\n",
       "      <th>2</th>\n",
       "      <td>489434</td>\n",
       "      <td>79323W</td>\n",
       "      <td>WHITE CHERRY LIGHTS</td>\n",
       "      <td>12</td>\n",
       "      <td>2009-12-01 07:45:00</td>\n",
       "      <td>6.75</td>\n",
       "      <td>13085</td>\n",
       "      <td>United Kingdom</td>\n",
       "      <td>81.0</td>\n",
       "      <td>2009-12</td>\n",
       "      <td>False</td>\n",
       "    </tr>\n",
       "    <tr>\n",
       "      <th>3</th>\n",
       "      <td>489434</td>\n",
       "      <td>22041</td>\n",
       "      <td>RECORD FRAME 7\" SINGLE SIZE</td>\n",
       "      <td>48</td>\n",
       "      <td>2009-12-01 07:45:00</td>\n",
       "      <td>2.10</td>\n",
       "      <td>13085</td>\n",
       "      <td>United Kingdom</td>\n",
       "      <td>100.8</td>\n",
       "      <td>2009-12</td>\n",
       "      <td>False</td>\n",
       "    </tr>\n",
       "    <tr>\n",
       "      <th>4</th>\n",
       "      <td>489434</td>\n",
       "      <td>21232</td>\n",
       "      <td>STRAWBERRY CERAMIC TRINKET BOX</td>\n",
       "      <td>24</td>\n",
       "      <td>2009-12-01 07:45:00</td>\n",
       "      <td>1.25</td>\n",
       "      <td>13085</td>\n",
       "      <td>United Kingdom</td>\n",
       "      <td>30.0</td>\n",
       "      <td>2009-12</td>\n",
       "      <td>False</td>\n",
       "    </tr>\n",
       "    <tr>\n",
       "      <th>5</th>\n",
       "      <td>489434</td>\n",
       "      <td>22064</td>\n",
       "      <td>PINK DOUGHNUT TRINKET POT</td>\n",
       "      <td>24</td>\n",
       "      <td>2009-12-01 07:45:00</td>\n",
       "      <td>1.65</td>\n",
       "      <td>13085</td>\n",
       "      <td>United Kingdom</td>\n",
       "      <td>39.6</td>\n",
       "      <td>2009-12</td>\n",
       "      <td>False</td>\n",
       "    </tr>\n",
       "    <tr>\n",
       "      <th>6</th>\n",
       "      <td>489434</td>\n",
       "      <td>21871</td>\n",
       "      <td>SAVE THE PLANET MUG</td>\n",
       "      <td>24</td>\n",
       "      <td>2009-12-01 07:45:00</td>\n",
       "      <td>1.25</td>\n",
       "      <td>13085</td>\n",
       "      <td>United Kingdom</td>\n",
       "      <td>30.0</td>\n",
       "      <td>2009-12</td>\n",
       "      <td>False</td>\n",
       "    </tr>\n",
       "    <tr>\n",
       "      <th>7</th>\n",
       "      <td>489434</td>\n",
       "      <td>21523</td>\n",
       "      <td>FANCY FONT HOME SWEET HOME DOORMAT</td>\n",
       "      <td>10</td>\n",
       "      <td>2009-12-01 07:45:00</td>\n",
       "      <td>5.95</td>\n",
       "      <td>13085</td>\n",
       "      <td>United Kingdom</td>\n",
       "      <td>59.5</td>\n",
       "      <td>2009-12</td>\n",
       "      <td>False</td>\n",
       "    </tr>\n",
       "    <tr>\n",
       "      <th>8</th>\n",
       "      <td>489435</td>\n",
       "      <td>22350</td>\n",
       "      <td>CAT BOWL</td>\n",
       "      <td>12</td>\n",
       "      <td>2009-12-01 07:46:00</td>\n",
       "      <td>2.55</td>\n",
       "      <td>13085</td>\n",
       "      <td>United Kingdom</td>\n",
       "      <td>30.6</td>\n",
       "      <td>2009-12</td>\n",
       "      <td>False</td>\n",
       "    </tr>\n",
       "    <tr>\n",
       "      <th>9</th>\n",
       "      <td>489435</td>\n",
       "      <td>22349</td>\n",
       "      <td>DOG BOWL , CHASING BALL DESIGN</td>\n",
       "      <td>12</td>\n",
       "      <td>2009-12-01 07:46:00</td>\n",
       "      <td>3.75</td>\n",
       "      <td>13085</td>\n",
       "      <td>United Kingdom</td>\n",
       "      <td>45.0</td>\n",
       "      <td>2009-12</td>\n",
       "      <td>False</td>\n",
       "    </tr>\n",
       "  </tbody>\n",
       "</table>\n",
       "</div>"
      ],
      "text/plain": [
       "  invoice stockcode                          description  quantity  \\\n",
       "0  489434     85048  15CM CHRISTMAS GLASS BALL 20 LIGHTS        12   \n",
       "1  489434    79323P                   PINK CHERRY LIGHTS        12   \n",
       "2  489434    79323W                  WHITE CHERRY LIGHTS        12   \n",
       "3  489434     22041         RECORD FRAME 7\" SINGLE SIZE         48   \n",
       "4  489434     21232       STRAWBERRY CERAMIC TRINKET BOX        24   \n",
       "5  489434     22064           PINK DOUGHNUT TRINKET POT         24   \n",
       "6  489434     21871                  SAVE THE PLANET MUG        24   \n",
       "7  489434     21523   FANCY FONT HOME SWEET HOME DOORMAT        10   \n",
       "8  489435     22350                            CAT BOWL         12   \n",
       "9  489435     22349       DOG BOWL , CHASING BALL DESIGN        12   \n",
       "\n",
       "          invoicedate  price  customer_id         country  revenue yearmonth  \\\n",
       "0 2009-12-01 07:45:00   6.95        13085  United Kingdom     83.4   2009-12   \n",
       "1 2009-12-01 07:45:00   6.75        13085  United Kingdom     81.0   2009-12   \n",
       "2 2009-12-01 07:45:00   6.75        13085  United Kingdom     81.0   2009-12   \n",
       "3 2009-12-01 07:45:00   2.10        13085  United Kingdom    100.8   2009-12   \n",
       "4 2009-12-01 07:45:00   1.25        13085  United Kingdom     30.0   2009-12   \n",
       "5 2009-12-01 07:45:00   1.65        13085  United Kingdom     39.6   2009-12   \n",
       "6 2009-12-01 07:45:00   1.25        13085  United Kingdom     30.0   2009-12   \n",
       "7 2009-12-01 07:45:00   5.95        13085  United Kingdom     59.5   2009-12   \n",
       "8 2009-12-01 07:46:00   2.55        13085  United Kingdom     30.6   2009-12   \n",
       "9 2009-12-01 07:46:00   3.75        13085  United Kingdom     45.0   2009-12   \n",
       "\n",
       "   iscancelled  \n",
       "0        False  \n",
       "1        False  \n",
       "2        False  \n",
       "3        False  \n",
       "4        False  \n",
       "5        False  \n",
       "6        False  \n",
       "7        False  \n",
       "8        False  \n",
       "9        False  "
      ]
     },
     "execution_count": 14,
     "metadata": {},
     "output_type": "execute_result"
    }
   ],
   "source": [
    "df_clean.head(10)"
   ]
  },
  {
   "cell_type": "code",
   "execution_count": 15,
   "id": "3e1f8133-8da3-4421-a863-fe99a2d7a2f7",
   "metadata": {
    "tags": []
   },
   "outputs": [
    {
     "name": "stdout",
     "output_type": "stream",
     "text": [
      "<class 'pandas.core.frame.DataFrame'>\n",
      "RangeIndex: 1067371 entries, 0 to 1067370\n",
      "Data columns (total 11 columns):\n",
      " #   Column       Non-Null Count    Dtype         \n",
      "---  ------       --------------    -----         \n",
      " 0   invoice      1067371 non-null  object        \n",
      " 1   stockcode    1067371 non-null  object        \n",
      " 2   description  1067371 non-null  object        \n",
      " 3   quantity     1067371 non-null  int64         \n",
      " 4   invoicedate  1067371 non-null  datetime64[ns]\n",
      " 5   price        1067371 non-null  float64       \n",
      " 6   customer_id  1067371 non-null  int32         \n",
      " 7   country      1067371 non-null  object        \n",
      " 8   revenue      1067371 non-null  float64       \n",
      " 9   yearmonth    1067371 non-null  period[M]     \n",
      " 10  iscancelled  1067371 non-null  bool          \n",
      "dtypes: bool(1), datetime64[ns](1), float64(2), int32(1), int64(1), object(4), period[M](1)\n",
      "memory usage: 78.4+ MB\n"
     ]
    }
   ],
   "source": [
    "df_clean.info()"
   ]
  },
  {
   "cell_type": "markdown",
   "id": "053f144e-4bfe-4e7d-98ef-4a3867946d11",
   "metadata": {},
   "source": [
    "Now, the cleaned dataset is exported and it is ready to be used for **SQL Queries and RFM Segmentation**"
   ]
  }
 ],
 "metadata": {
  "kernelspec": {
   "display_name": "Python 3 (ipykernel)",
   "language": "python",
   "name": "python3"
  },
  "language_info": {
   "codemirror_mode": {
    "name": "ipython",
    "version": 3
   },
   "file_extension": ".py",
   "mimetype": "text/x-python",
   "name": "python",
   "nbconvert_exporter": "python",
   "pygments_lexer": "ipython3",
   "version": "3.11.4"
  }
 },
 "nbformat": 4,
 "nbformat_minor": 5
}
